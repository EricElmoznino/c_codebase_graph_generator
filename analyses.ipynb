{
 "cells": [
  {
   "cell_type": "code",
   "execution_count": 2,
   "id": "91dbf872",
   "metadata": {},
   "outputs": [],
   "source": [
    "import os\n",
    "import json\n",
    "import pandas as pd\n",
    "import matplotlib.pyplot as plt\n",
    "import seaborn as sns\n",
    "\n",
    "sns.set_theme(style=\"white\")"
   ]
  },
  {
   "cell_type": "code",
   "execution_count": null,
   "id": "2ea6d3c5",
   "metadata": {},
   "outputs": [
    {
     "data": {
      "text/html": [
       "<div>\n",
       "<style scoped>\n",
       "    .dataframe tbody tr th:only-of-type {\n",
       "        vertical-align: middle;\n",
       "    }\n",
       "\n",
       "    .dataframe tbody tr th {\n",
       "        vertical-align: top;\n",
       "    }\n",
       "\n",
       "    .dataframe thead th {\n",
       "        text-align: right;\n",
       "    }\n",
       "</style>\n",
       "<table border=\"1\" class=\"dataframe\">\n",
       "  <thead>\n",
       "    <tr style=\"text-align: right;\">\n",
       "      <th></th>\n",
       "      <th>code</th>\n",
       "      <th>degree</th>\n",
       "      <th>code_length</th>\n",
       "    </tr>\n",
       "  </thead>\n",
       "  <tbody>\n",
       "    <tr>\n",
       "      <th>0</th>\n",
       "      <td>typedef struct _matrix {\\n    int height;\\n   ...</td>\n",
       "      <td>30</td>\n",
       "      <td>84</td>\n",
       "    </tr>\n",
       "    <tr>\n",
       "      <th>1</th>\n",
       "      <td>matrix* L2_distance(matrix* a, matrix* b) {\\n ...</td>\n",
       "      <td>7</td>\n",
       "      <td>797</td>\n",
       "    </tr>\n",
       "    <tr>\n",
       "      <th>2</th>\n",
       "      <td>int main(int argc, char** argv) {\\n    matrix*...</td>\n",
       "      <td>8</td>\n",
       "      <td>919</td>\n",
       "    </tr>\n",
       "    <tr>\n",
       "      <th>3</th>\n",
       "      <td>matrix* francisQRstep(matrix* a) {\\n    int i,...</td>\n",
       "      <td>10</td>\n",
       "      <td>1754</td>\n",
       "    </tr>\n",
       "    <tr>\n",
       "      <th>4</th>\n",
       "      <td>double powerMethod(matrix* a) {\\n    matrix* x...</td>\n",
       "      <td>6</td>\n",
       "      <td>1401</td>\n",
       "    </tr>\n",
       "    <tr>\n",
       "      <th>...</th>\n",
       "      <td>...</td>\n",
       "      <td>...</td>\n",
       "      <td>...</td>\n",
       "    </tr>\n",
       "    <tr>\n",
       "      <th>73</th>\n",
       "      <td>Matrix scalarMult(double x, Matrix A){\\n\\t// R...</td>\n",
       "      <td>11</td>\n",
       "      <td>543</td>\n",
       "    </tr>\n",
       "    <tr>\n",
       "      <th>74</th>\n",
       "      <td>Matrix sum(Matrix A, Matrix B){\\n\\t// Returns ...</td>\n",
       "      <td>11</td>\n",
       "      <td>2214</td>\n",
       "    </tr>\n",
       "    <tr>\n",
       "      <th>75</th>\n",
       "      <td>Matrix diff(Matrix A, Matrix B){\\n\\t// diff()\\...</td>\n",
       "      <td>10</td>\n",
       "      <td>2227</td>\n",
       "    </tr>\n",
       "    <tr>\n",
       "      <th>76</th>\n",
       "      <td>double vectorDot(List currlistA, List currlist...</td>\n",
       "      <td>7</td>\n",
       "      <td>1082</td>\n",
       "    </tr>\n",
       "    <tr>\n",
       "      <th>77</th>\n",
       "      <td>Matrix product(Matrix A, Matrix B){\\n\\t// Retu...</td>\n",
       "      <td>10</td>\n",
       "      <td>886</td>\n",
       "    </tr>\n",
       "  </tbody>\n",
       "</table>\n",
       "<p>78 rows × 3 columns</p>\n",
       "</div>"
      ],
      "text/plain": [
       "                                                 code  degree  code_length\n",
       "0   typedef struct _matrix {\\n    int height;\\n   ...      30           84\n",
       "1   matrix* L2_distance(matrix* a, matrix* b) {\\n ...       7          797\n",
       "2   int main(int argc, char** argv) {\\n    matrix*...       8          919\n",
       "3   matrix* francisQRstep(matrix* a) {\\n    int i,...      10         1754\n",
       "4   double powerMethod(matrix* a) {\\n    matrix* x...       6         1401\n",
       "..                                                ...     ...          ...\n",
       "73  Matrix scalarMult(double x, Matrix A){\\n\\t// R...      11          543\n",
       "74  Matrix sum(Matrix A, Matrix B){\\n\\t// Returns ...      11         2214\n",
       "75  Matrix diff(Matrix A, Matrix B){\\n\\t// diff()\\...      10         2227\n",
       "76  double vectorDot(List currlistA, List currlist...       7         1082\n",
       "77  Matrix product(Matrix A, Matrix B){\\n\\t// Retu...      10          886\n",
       "\n",
       "[78 rows x 3 columns]"
      ]
     },
     "execution_count": 5,
     "metadata": {},
     "output_type": "execute_result"
    }
   ],
   "source": [
    "with open(\"out/cgraph.json\", \"r\") as f:\n",
    "    data = json.load(f)\n",
    "data = [{\"code\": d[\"code\"], \"degree\": d[\"degree\"]} for d in data[\"nodes\"]]\n",
    "data = pd.DataFrame(data)\n",
    "data = data.assign(code_length=data[\"code\"].str.len())\n",
    "data"
   ]
  },
  {
   "cell_type": "code",
   "execution_count": 15,
   "id": "c9e09635",
   "metadata": {},
   "outputs": [
    {
     "data": {
      "image/png": "[encoded data removed]",
      "text/plain": [
       "<Figure size 800x400 with 2 Axes>"
      ]
     },
     "metadata": {},
     "output_type": "display_data"
    }
   ],
   "source": [
    "fig, axs = plt.subplots(1, 2, figsize=(8, 4), sharey=True)\n",
    "sns.histplot(data=data, x=\"code_length\", ax=axs[0])\n",
    "sns.histplot(data=data, x=\"degree\", ax=axs[1])\n",
    "axs[0].set(xlabel=\"Code length (characters)\")\n",
    "axs[1].set(xlabel=\"Number of links\")\n",
    "fig.tight_layout()\n",
    "plt.show()"
   ]
  }
 ],
 "metadata": {
  "kernelspec": {
   "display_name": "base",
   "language": "python",
   "name": "python3"
  },
  "language_info": {
   "codemirror_mode": {
    "name": "ipython",
    "version": 3
   },
   "file_extension": ".py",
   "mimetype": "text/x-python",
   "name": "python",
   "nbconvert_exporter": "python",
   "pygments_lexer": "ipython3",
   "version": "3.12.4"
  }
 },
 "nbformat": 4,
 "nbformat_minor": 5
}
